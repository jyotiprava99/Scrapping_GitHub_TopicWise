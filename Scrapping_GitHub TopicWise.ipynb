{
 "cells": [
  {
   "cell_type": "code",
   "execution_count": 1,
   "id": "59083d55-0cd3-4085-b329-e877906db165",
   "metadata": {},
   "outputs": [],
   "source": [
    "import requests\n",
    "url = \"https://github.com/topics\"\n",
    "response = requests.get(url)"
   ]
  },
  {
   "cell_type": "code",
   "execution_count": 3,
   "id": "b2be61fb-b288-40d1-9965-4a056ea1277e",
   "metadata": {},
   "outputs": [
    {
     "data": {
      "text/plain": [
       "200"
      ]
     },
     "execution_count": 3,
     "metadata": {},
     "output_type": "execute_result"
    }
   ],
   "source": [
    "response.status_code"
   ]
  },
  {
   "cell_type": "code",
   "execution_count": 5,
   "id": "c8a73f61-9908-4930-83ea-4360412ae3fe",
   "metadata": {},
   "outputs": [
    {
     "data": {
      "text/plain": [
       "205513"
      ]
     },
     "execution_count": 5,
     "metadata": {},
     "output_type": "execute_result"
    }
   ],
   "source": [
    "len(response.text)"
   ]
  },
  {
   "cell_type": "code",
   "execution_count": 7,
   "id": "c8427cc5-06a0-425a-a231-91f80b98ca2b",
   "metadata": {},
   "outputs": [
    {
     "data": {
      "text/plain": [
       "'\\n\\n<!DOCTYPE html>\\n<html\\n  lang=\"en\"\\n  \\n  data-color-mode=\"auto\" data-light-theme=\"light\" data-dark-theme=\"dark\"\\n  data-a11y-animated-images=\"system\" data-a11y-link-underlines=\"true\"\\n  \\n  >\\n\\n\\n\\n  <head>\\n    <meta charset=\"utf-8\">\\n  <link rel=\"dns-prefetch\" href=\"https://github.githubassets.com\">\\n  <link rel=\"dns-prefetch\" href=\"https://avatars.githubusercontent.com\">\\n  <link rel=\"dns-prefetch\" href=\"https://github-cloud.s3.amazonaws.com\">\\n  <link rel=\"dns-prefetch\" href=\"https://user-images.github'"
      ]
     },
     "execution_count": 7,
     "metadata": {},
     "output_type": "execute_result"
    }
   ],
   "source": [
    "page_content = response.text\n",
    "page_content[:500]"
   ]
  },
  {
   "cell_type": "code",
   "execution_count": 13,
   "id": "b2753d70-e1fe-4ea1-b31f-6f6fd3c36945",
   "metadata": {},
   "outputs": [],
   "source": [
    "# with open(\"webpage.html\",\"w\") as f:\n",
    "#     f.write(page_content)"
   ]
  },
  {
   "cell_type": "code",
   "execution_count": 15,
   "id": "8eeadba0-6965-46e4-98a8-1ac749384c47",
   "metadata": {},
   "outputs": [],
   "source": [
    "#Using BeautifulSoup to Extract Information\n",
    "from bs4 import BeautifulSoup\n",
    "soup= BeautifulSoup(page_content,\"html.parser\")"
   ]
  },
  {
   "cell_type": "code",
   "execution_count": 17,
   "id": "bb80288f-b432-4774-99c1-bd387cc3a435",
   "metadata": {},
   "outputs": [
    {
     "data": {
      "text/plain": [
       "69"
      ]
     },
     "execution_count": 17,
     "metadata": {},
     "output_type": "execute_result"
    }
   ],
   "source": [
    "len(soup.find_all('p'))"
   ]
  },
  {
   "cell_type": "code",
   "execution_count": 19,
   "id": "bfabcfcb-ac6b-4521-8319-7e232533dadd",
   "metadata": {},
   "outputs": [
    {
     "data": {
      "text/plain": [
       "[<p class=\"f3 lh-condensed mb-0 mt-1 Link--primary\">3D</p>,\n",
       " <p class=\"f3 lh-condensed mb-0 mt-1 Link--primary\">Ajax</p>,\n",
       " <p class=\"f3 lh-condensed mb-0 mt-1 Link--primary\">Algorithm</p>,\n",
       " <p class=\"f3 lh-condensed mb-0 mt-1 Link--primary\">Amp</p>,\n",
       " <p class=\"f3 lh-condensed mb-0 mt-1 Link--primary\">Android</p>]"
      ]
     },
     "execution_count": 19,
     "metadata": {},
     "output_type": "execute_result"
    }
   ],
   "source": [
    "title = soup.find_all('p',class_ = 'f3 lh-condensed mb-0 mt-1 Link--primary')\n",
    "title[:5]\n"
   ]
  },
  {
   "cell_type": "code",
   "execution_count": 21,
   "id": "592246eb-8d78-401c-be53-935d26080de6",
   "metadata": {},
   "outputs": [
    {
     "data": {
      "text/plain": [
       "['3D',\n",
       " 'Ajax',\n",
       " 'Algorithm',\n",
       " 'Amp',\n",
       " 'Android',\n",
       " 'Angular',\n",
       " 'Ansible',\n",
       " 'API',\n",
       " 'Arduino',\n",
       " 'ASP.NET',\n",
       " 'Awesome Lists',\n",
       " 'Amazon Web Services',\n",
       " 'Azure',\n",
       " 'Babel',\n",
       " 'Bash',\n",
       " 'Bitcoin',\n",
       " 'Bootstrap',\n",
       " 'Bot',\n",
       " 'C',\n",
       " 'Chrome',\n",
       " 'Chrome extension',\n",
       " 'Command-line interface',\n",
       " 'Clojure',\n",
       " 'Code quality',\n",
       " 'Code review',\n",
       " 'Compiler',\n",
       " 'Continuous integration',\n",
       " 'C++',\n",
       " 'Cryptocurrency',\n",
       " 'Crystal']"
      ]
     },
     "execution_count": 21,
     "metadata": {},
     "output_type": "execute_result"
    }
   ],
   "source": [
    "title_all = []\n",
    "for i in title:\n",
    "    title_all.append(i.text)\n",
    "    \n",
    "title_all"
   ]
  },
  {
   "cell_type": "code",
   "execution_count": 23,
   "id": "9dcf0e51-c5a7-437e-974f-908c9c45f2aa",
   "metadata": {},
   "outputs": [
    {
     "data": {
      "text/plain": [
       "[<p class=\"f5 color-fg-muted mb-0 mt-1\">\n",
       "           3D refers to the use of three-dimensional graphics, modeling, and animation in various industries.\n",
       "         </p>,\n",
       " <p class=\"f5 color-fg-muted mb-0 mt-1\">\n",
       "           Ajax is a technique for creating interactive web applications.\n",
       "         </p>,\n",
       " <p class=\"f5 color-fg-muted mb-0 mt-1\">\n",
       "           Algorithms are self-contained sequences that carry out a variety of tasks.\n",
       "         </p>,\n",
       " <p class=\"f5 color-fg-muted mb-0 mt-1\">\n",
       "           Amp is a non-blocking concurrency library for PHP.\n",
       "         </p>,\n",
       " <p class=\"f5 color-fg-muted mb-0 mt-1\">\n",
       "           Android is an operating system built by Google designed for mobile devices.\n",
       "         </p>]"
      ]
     },
     "execution_count": 23,
     "metadata": {},
     "output_type": "execute_result"
    }
   ],
   "source": [
    "context = soup.find_all('p',class_ = 'f5 color-fg-muted mb-0 mt-1')\n",
    "context[0:5]"
   ]
  },
  {
   "cell_type": "code",
   "execution_count": 25,
   "id": "db7f567c-2903-4c8d-8c5f-96125d659ba8",
   "metadata": {},
   "outputs": [
    {
     "data": {
      "text/plain": [
       "['3D refers to the use of three-dimensional graphics, modeling, and animation in various industries.',\n",
       " 'Ajax is a technique for creating interactive web applications.',\n",
       " 'Algorithms are self-contained sequences that carry out a variety of tasks.',\n",
       " 'Amp is a non-blocking concurrency library for PHP.',\n",
       " 'Android is an operating system built by Google designed for mobile devices.',\n",
       " 'Angular is an open source web application platform.',\n",
       " 'Ansible is a simple and powerful automation engine.',\n",
       " 'An API (Application Programming Interface) is a collection of protocols and subroutines for building software.',\n",
       " 'Arduino is an open source platform for building electronic devices.',\n",
       " 'ASP.NET is a web framework for building modern web apps and services.',\n",
       " 'An awesome list is a list of awesome things curated by the community.',\n",
       " 'Amazon Web Services provides on-demand cloud computing platforms on a subscription basis.',\n",
       " 'Azure is a cloud computing service created by Microsoft.',\n",
       " 'Babel is a compiler for writing next generation JavaScript, today.',\n",
       " 'Bash is a shell and command language interpreter for the GNU operating system.',\n",
       " 'Bitcoin is a cryptocurrency developed by Satoshi Nakamoto.',\n",
       " 'Bootstrap is an HTML, CSS, and JavaScript framework.',\n",
       " 'A bot is an application that runs automated tasks over the Internet.',\n",
       " 'C is a general purpose programming language that first appeared in 1972.',\n",
       " 'Chrome is a web browser from the tech company Google.',\n",
       " 'Chrome extensions enable users to customize the Chrome browsing experience.',\n",
       " 'A CLI, or command-line interface, is a console that helps users issue commands to a program.',\n",
       " 'Clojure is a dynamic, general-purpose programming language.',\n",
       " 'Automate your code review with style, quality, security, and test‑coverage checks when you need them.',\n",
       " 'Ensure your code meets quality standards and ship with confidence.',\n",
       " 'Compilers are software that translate higher-level programming languages to lower-level languages (e.g. machine code).',\n",
       " 'Automatically build and test your code as you push it upstream, preventing bugs from being deployed to production.',\n",
       " 'C++ is a general purpose and object-oriented programming language.',\n",
       " 'A cryptocurrency is a digital currency that uses cryptography.',\n",
       " 'Crystal is a self-hosted, general purpose programming language.']"
      ]
     },
     "execution_count": 25,
     "metadata": {},
     "output_type": "execute_result"
    }
   ],
   "source": [
    "context_all = []\n",
    "for i in context:\n",
    "    context_all.append(i.text.strip())\n",
    "    \n",
    "context_all"
   ]
  },
  {
   "cell_type": "code",
   "execution_count": 27,
   "id": "146456c0-d371-4823-8373-a0e4733d25be",
   "metadata": {},
   "outputs": [
    {
     "data": {
      "text/plain": [
       "'https://github.com/topics/3d'"
      ]
     },
     "execution_count": 27,
     "metadata": {},
     "output_type": "execute_result"
    }
   ],
   "source": [
    "all_links = soup.find_all('a',class_ = 'no-underline flex-1 d-flex flex-column')\n",
    "\"https://github.com\" + all_links[0]['href']"
   ]
  },
  {
   "cell_type": "code",
   "execution_count": 29,
   "id": "646acedd-51c5-4b99-af1a-8178412b9d31",
   "metadata": {},
   "outputs": [
    {
     "data": {
      "text/plain": [
       "['https://github.com/topics/3d',\n",
       " 'https://github.com/topics/ajax',\n",
       " 'https://github.com/topics/algorithm',\n",
       " 'https://github.com/topics/amphp',\n",
       " 'https://github.com/topics/android',\n",
       " 'https://github.com/topics/angular',\n",
       " 'https://github.com/topics/ansible',\n",
       " 'https://github.com/topics/api',\n",
       " 'https://github.com/topics/arduino',\n",
       " 'https://github.com/topics/aspnet',\n",
       " 'https://github.com/topics/awesome',\n",
       " 'https://github.com/topics/aws',\n",
       " 'https://github.com/topics/azure',\n",
       " 'https://github.com/topics/babel',\n",
       " 'https://github.com/topics/bash',\n",
       " 'https://github.com/topics/bitcoin',\n",
       " 'https://github.com/topics/bootstrap',\n",
       " 'https://github.com/topics/bot',\n",
       " 'https://github.com/topics/c',\n",
       " 'https://github.com/topics/chrome',\n",
       " 'https://github.com/topics/chrome-extension',\n",
       " 'https://github.com/topics/cli',\n",
       " 'https://github.com/topics/clojure',\n",
       " 'https://github.com/topics/code-quality',\n",
       " 'https://github.com/topics/code-review',\n",
       " 'https://github.com/topics/compiler',\n",
       " 'https://github.com/topics/continuous-integration',\n",
       " 'https://github.com/topics/cpp',\n",
       " 'https://github.com/topics/cryptocurrency',\n",
       " 'https://github.com/topics/crystal']"
      ]
     },
     "execution_count": 29,
     "metadata": {},
     "output_type": "execute_result"
    }
   ],
   "source": [
    "links_all = []\n",
    "start = \"https://github.com\"\n",
    "for i in all_links:\n",
    "    links_all.append(start + i['href'])\n",
    "\n",
    "links_all"
   ]
  },
  {
   "cell_type": "code",
   "execution_count": 31,
   "id": "55c47bac-9767-4293-bf79-ffe3e6b19577",
   "metadata": {},
   "outputs": [
    {
     "name": "stdout",
     "output_type": "stream",
     "text": [
      "Length of DataFrame :  30\n"
     ]
    }
   ],
   "source": [
    "#Creating Pandas DataFrame\n",
    "import pandas as pd\n",
    "\n",
    "df = pd.DataFrame({\"Title\" :title_all,\n",
    "                   \"Context\" : context_all,\n",
    "                   \"Link\" : links_all\n",
    "                  })\n",
    "print(\"Length of DataFrame : \",len(df))"
   ]
  },
  {
   "cell_type": "code",
   "execution_count": 33,
   "id": "fcd50c38-4196-4236-8af5-6bc870d563b0",
   "metadata": {},
   "outputs": [
    {
     "data": {
      "text/html": [
       "<div>\n",
       "<style scoped>\n",
       "    .dataframe tbody tr th:only-of-type {\n",
       "        vertical-align: middle;\n",
       "    }\n",
       "\n",
       "    .dataframe tbody tr th {\n",
       "        vertical-align: top;\n",
       "    }\n",
       "\n",
       "    .dataframe thead th {\n",
       "        text-align: right;\n",
       "    }\n",
       "</style>\n",
       "<table border=\"1\" class=\"dataframe\">\n",
       "  <thead>\n",
       "    <tr style=\"text-align: right;\">\n",
       "      <th></th>\n",
       "      <th>Title</th>\n",
       "      <th>Context</th>\n",
       "      <th>Link</th>\n",
       "    </tr>\n",
       "  </thead>\n",
       "  <tbody>\n",
       "    <tr>\n",
       "      <th>0</th>\n",
       "      <td>3D</td>\n",
       "      <td>3D refers to the use of three-dimensional grap...</td>\n",
       "      <td>https://github.com/topics/3d</td>\n",
       "    </tr>\n",
       "    <tr>\n",
       "      <th>1</th>\n",
       "      <td>Ajax</td>\n",
       "      <td>Ajax is a technique for creating interactive w...</td>\n",
       "      <td>https://github.com/topics/ajax</td>\n",
       "    </tr>\n",
       "    <tr>\n",
       "      <th>2</th>\n",
       "      <td>Algorithm</td>\n",
       "      <td>Algorithms are self-contained sequences that c...</td>\n",
       "      <td>https://github.com/topics/algorithm</td>\n",
       "    </tr>\n",
       "    <tr>\n",
       "      <th>3</th>\n",
       "      <td>Amp</td>\n",
       "      <td>Amp is a non-blocking concurrency library for ...</td>\n",
       "      <td>https://github.com/topics/amphp</td>\n",
       "    </tr>\n",
       "    <tr>\n",
       "      <th>4</th>\n",
       "      <td>Android</td>\n",
       "      <td>Android is an operating system built by Google...</td>\n",
       "      <td>https://github.com/topics/android</td>\n",
       "    </tr>\n",
       "  </tbody>\n",
       "</table>\n",
       "</div>"
      ],
      "text/plain": [
       "       Title                                            Context  \\\n",
       "0         3D  3D refers to the use of three-dimensional grap...   \n",
       "1       Ajax  Ajax is a technique for creating interactive w...   \n",
       "2  Algorithm  Algorithms are self-contained sequences that c...   \n",
       "3        Amp  Amp is a non-blocking concurrency library for ...   \n",
       "4    Android  Android is an operating system built by Google...   \n",
       "\n",
       "                                  Link  \n",
       "0         https://github.com/topics/3d  \n",
       "1       https://github.com/topics/ajax  \n",
       "2  https://github.com/topics/algorithm  \n",
       "3      https://github.com/topics/amphp  \n",
       "4    https://github.com/topics/android  "
      ]
     },
     "execution_count": 33,
     "metadata": {},
     "output_type": "execute_result"
    }
   ],
   "source": [
    "df.head()"
   ]
  },
  {
   "cell_type": "code",
   "execution_count": 35,
   "id": "4035d2db-c3ce-4a82-8dfd-5f1796ecf425",
   "metadata": {},
   "outputs": [],
   "source": [
    "df.to_csv(\"topics.csv\",index=None)"
   ]
  },
  {
   "cell_type": "markdown",
   "id": "caf7693c-3149-47de-9f43-203758b13d97",
   "metadata": {},
   "source": [
    "## Extracting Data from csv"
   ]
  },
  {
   "cell_type": "code",
   "execution_count": 38,
   "id": "76c87f04-57b7-43db-b5ca-0b224f51d357",
   "metadata": {},
   "outputs": [],
   "source": [
    "topic_url = links_all[0]"
   ]
  },
  {
   "cell_type": "code",
   "execution_count": 40,
   "id": "56f77211-8c8c-4902-935a-556bad8262a9",
   "metadata": {},
   "outputs": [
    {
     "data": {
      "text/plain": [
       "'https://github.com/topics/3d'"
      ]
     },
     "execution_count": 40,
     "metadata": {},
     "output_type": "execute_result"
    }
   ],
   "source": [
    "topic_url"
   ]
  },
  {
   "cell_type": "code",
   "execution_count": 42,
   "id": "8494963e-3e86-49bd-b44d-2c746f751a3b",
   "metadata": {},
   "outputs": [],
   "source": [
    "response = requests.get(topic_url)"
   ]
  },
  {
   "cell_type": "code",
   "execution_count": 44,
   "id": "0a03a4d0-fe50-47df-9a44-07592221c5e1",
   "metadata": {},
   "outputs": [
    {
     "data": {
      "text/plain": [
       "200"
      ]
     },
     "execution_count": 44,
     "metadata": {},
     "output_type": "execute_result"
    }
   ],
   "source": [
    "response.status_code"
   ]
  },
  {
   "cell_type": "code",
   "execution_count": 46,
   "id": "7d6f9ec6-f5f4-44fb-a801-b49ada4237fc",
   "metadata": {},
   "outputs": [
    {
     "data": {
      "text/plain": [
       "520274"
      ]
     },
     "execution_count": 46,
     "metadata": {},
     "output_type": "execute_result"
    }
   ],
   "source": [
    "len(response.text)\n"
   ]
  },
  {
   "cell_type": "code",
   "execution_count": 48,
   "id": "771683fa-07c7-467b-91b3-6a1b7c90908d",
   "metadata": {},
   "outputs": [],
   "source": [
    "topic_doc = BeautifulSoup(response.text,\"html.parser\")"
   ]
  },
  {
   "cell_type": "code",
   "execution_count": 50,
   "id": "020c5878-633a-4e5d-850e-438eea75bb2e",
   "metadata": {},
   "outputs": [
    {
     "data": {
      "text/plain": [
       "'<!DOCTYPE html>\\n<html data-a11y-animated-images=\"system\" data-a11y-link-underlines=\"true\" data-color-mode=\"auto\" data-dark-theme=\"dark\" data-light-theme=\"light\" lang=\"en\">\\n <head>\\n  <meta charset=\"utf-8\"/>\\n  <link href=\"https://github.githubassets.com\" rel=\"dns-prefetch\"/>\\n  <link href=\"https://avatars.githubusercontent.com\" rel=\"dns-prefetch\"/>\\n  <link href=\"https://github-cloud.s3.amazonaws.com\" rel=\"dns-prefetch\"/>\\n  <link href=\"https://user-images.githubusercontent.com/\" rel=\"dns-prefetch\"/>'"
      ]
     },
     "execution_count": 50,
     "metadata": {},
     "output_type": "execute_result"
    }
   ],
   "source": [
    "topic_doc.prettify()[:500]"
   ]
  },
  {
   "cell_type": "code",
   "execution_count": 52,
   "id": "872493f3-7c75-4c47-b861-72ceb64e312f",
   "metadata": {},
   "outputs": [],
   "source": [
    "repo_info = topic_doc.find_all('h3',class_='f3 color-fg-muted text-normal lh-condensed')"
   ]
  },
  {
   "cell_type": "code",
   "execution_count": 54,
   "id": "4afc9cf1-8eda-431c-bda7-25ce2f6dee15",
   "metadata": {},
   "outputs": [
    {
     "data": {
      "text/plain": [
       "[<a class=\"Link\" data-hydro-click='{\"event_type\":\"explore.click\",\"payload\":{\"click_context\":\"REPOSITORY_CARD\",\"click_target\":\"OWNER\",\"click_visual_representation\":\"REPOSITORY_OWNER_HEADING\",\"actor_id\":null,\"record_id\":97088,\"originating_url\":\"https://github.com/topics/3d\",\"user_id\":null}}' data-hydro-click-hmac=\"c72fbd5c69a8ee7c9c53a4e65de2b93c8fc7552dd793945819639bc165c0f0ba\" data-turbo=\"false\" data-view-component=\"true\" href=\"/mrdoob\">mrdoob</a>,\n",
       " <a class=\"Link text-bold wb-break-word\" data-hydro-click='{\"event_type\":\"explore.click\",\"payload\":{\"click_context\":\"REPOSITORY_CARD\",\"click_target\":\"REPOSITORY\",\"click_visual_representation\":\"REPOSITORY_NAME_HEADING\",\"actor_id\":null,\"record_id\":576201,\"originating_url\":\"https://github.com/topics/3d\",\"user_id\":null}}' data-hydro-click-hmac=\"4a2667db3d63a1739c412e059e5da95afe419df83f70949b5d59dc3478f5c79a\" data-turbo=\"false\" data-view-component=\"true\" href=\"/mrdoob/three.js\">three.js</a>]"
      ]
     },
     "execution_count": 54,
     "metadata": {},
     "output_type": "execute_result"
    }
   ],
   "source": [
    "single_repo_info = repo_info[0].find_all('a')\n",
    "single_repo_info"
   ]
  },
  {
   "cell_type": "code",
   "execution_count": 56,
   "id": "983ae658-923d-4145-9537-4475f049b05f",
   "metadata": {},
   "outputs": [
    {
     "data": {
      "text/plain": [
       "'mrdoob'"
      ]
     },
     "execution_count": 56,
     "metadata": {},
     "output_type": "execute_result"
    }
   ],
   "source": [
    "single_repo_username = single_repo_info[0].text.strip()\n",
    "single_repo_username"
   ]
  },
  {
   "cell_type": "code",
   "execution_count": 58,
   "id": "66a205f4-71d3-4c21-b783-0dd5f7008db4",
   "metadata": {},
   "outputs": [
    {
     "data": {
      "text/plain": [
       "'https://www.github.com/mrdoob/three.js'"
      ]
     },
     "execution_count": 58,
     "metadata": {},
     "output_type": "execute_result"
    }
   ],
   "source": [
    "single_repo_url = \"https://www.github.com\" + single_repo_info[1]['href']\n",
    "single_repo_url"
   ]
  },
  {
   "cell_type": "code",
   "execution_count": 60,
   "id": "0d954925-fc77-4f29-a04e-44d8788843df",
   "metadata": {},
   "outputs": [
    {
     "data": {
      "text/plain": [
       "'three.js'"
      ]
     },
     "execution_count": 60,
     "metadata": {},
     "output_type": "execute_result"
    }
   ],
   "source": [
    "single_repo_name = single_repo_info[1].text.strip()\n",
    "single_repo_name"
   ]
  },
  {
   "cell_type": "code",
   "execution_count": 62,
   "id": "c2ed67d1-fba6-4c8e-930a-706117563409",
   "metadata": {},
   "outputs": [],
   "source": [
    "stars_info = topic_doc.find_all('span',class_='Counter js-social-count')"
   ]
  },
  {
   "cell_type": "code",
   "execution_count": 64,
   "id": "e4a20106-f5b1-4986-8ff3-94ad9dfe7aff",
   "metadata": {},
   "outputs": [
    {
     "data": {
      "text/plain": [
       "'104k'"
      ]
     },
     "execution_count": 64,
     "metadata": {},
     "output_type": "execute_result"
    }
   ],
   "source": [
    "stars_info[0].text"
   ]
  },
  {
   "cell_type": "code",
   "execution_count": 66,
   "id": "9ba0db03-4bfd-47ed-ab0f-06190f9af731",
   "metadata": {},
   "outputs": [
    {
     "data": {
      "text/plain": [
       "104000"
      ]
     },
     "execution_count": 66,
     "metadata": {},
     "output_type": "execute_result"
    }
   ],
   "source": [
    "#Creating a function to convert this to integer\n",
    "def str_to_int(inputstr):\n",
    "    inputstr = inputstr.strip()\n",
    "    if inputstr[-1] == 'k':\n",
    "        return int(float(inputstr[:-1]) *1000)\n",
    "    return int(inputstr)\n",
    "\n",
    "str_to_int(stars_info[0].text)"
   ]
  },
  {
   "cell_type": "code",
   "execution_count": 74,
   "id": "cf6dfcd2-795b-4865-bffb-6b9b93b10513",
   "metadata": {},
   "outputs": [],
   "source": [
    "a = '87.7k'"
   ]
  },
  {
   "cell_type": "code",
   "execution_count": 76,
   "id": "08574725-450a-4d13-8de9-62bb16ac10a1",
   "metadata": {},
   "outputs": [
    {
     "data": {
      "text/plain": [
       "'k'"
      ]
     },
     "execution_count": 76,
     "metadata": {},
     "output_type": "execute_result"
    }
   ],
   "source": [
    "a[-1]"
   ]
  },
  {
   "cell_type": "code",
   "execution_count": 78,
   "id": "92998b3b-e431-42d2-ac20-a333df68ca36",
   "metadata": {},
   "outputs": [
    {
     "data": {
      "text/plain": [
       "'87.7'"
      ]
     },
     "execution_count": 78,
     "metadata": {},
     "output_type": "execute_result"
    }
   ],
   "source": [
    "a[:-1]"
   ]
  },
  {
   "cell_type": "code",
   "execution_count": 80,
   "id": "373fefa4-4243-4085-9d73-a41da7f87599",
   "metadata": {},
   "outputs": [
    {
     "data": {
      "text/plain": [
       "87.7"
      ]
     },
     "execution_count": 80,
     "metadata": {},
     "output_type": "execute_result"
    }
   ],
   "source": [
    "float(a[:-1])"
   ]
  },
  {
   "cell_type": "code",
   "execution_count": 82,
   "id": "98dccd58-af4c-4c89-831c-15fdca5e54a6",
   "metadata": {},
   "outputs": [
    {
     "data": {
      "text/plain": [
       "87700"
      ]
     },
     "execution_count": 82,
     "metadata": {},
     "output_type": "execute_result"
    }
   ],
   "source": [
    "int(float(a[:-1])*1000)"
   ]
  },
  {
   "cell_type": "code",
   "execution_count": 84,
   "id": "d95bed49-7f89-4137-af54-3f4c6d2886a5",
   "metadata": {},
   "outputs": [],
   "source": [
    "#Creating a function to get repo info along with the star tag\n",
    "def get_repo_info(repo_information,star_tag):\n",
    "        a_tags = repo_information.find_all('a')\n",
    "        username = a_tags[0].text.strip()\n",
    "        reponame = a_tags[1].text.strip()\n",
    "        repourl = \"https://www.github.com\" + a_tags[1]['href']\n",
    "        stars = str_to_int(star_tag.text)\n",
    "        return username,reponame,stars,repourl"
   ]
  },
  {
   "cell_type": "code",
   "execution_count": 86,
   "id": "773939ec-6dc4-4086-95c9-448797784933",
   "metadata": {},
   "outputs": [
    {
     "data": {
      "text/plain": [
       "('mrdoob', 'three.js', 104000, 'https://www.github.com/mrdoob/three.js')"
      ]
     },
     "execution_count": 86,
     "metadata": {},
     "output_type": "execute_result"
    }
   ],
   "source": [
    "get_repo_info(repo_info[0],stars_info[0])"
   ]
  },
  {
   "cell_type": "code",
   "execution_count": 88,
   "id": "e65a82fc-78e3-4789-9b25-0492bbcd8b7c",
   "metadata": {},
   "outputs": [],
   "source": [
    "topic_repo_dict = {\n",
    "    'username':[],\n",
    "    'reponame':[],\n",
    "    'repourl':[],\n",
    "    'stars':[]\n",
    "}\n",
    "\n",
    "for i in range(len(repo_info)):\n",
    "    repo_information = get_repo_info(repo_info[i],stars_info[i])\n",
    "    topic_repo_dict['username'].append(repo_information[0])\n",
    "    topic_repo_dict['reponame'].append(repo_information[1])\n",
    "    topic_repo_dict['repourl'].append(repo_information[3])\n",
    "    topic_repo_dict['stars'].append(repo_information[2])"
   ]
  },
  {
   "cell_type": "code",
   "execution_count": 90,
   "id": "b923c62a-2886-4d48-88c7-4a56f06bbde8",
   "metadata": {},
   "outputs": [
    {
     "data": {
      "text/html": [
       "<div>\n",
       "<style scoped>\n",
       "    .dataframe tbody tr th:only-of-type {\n",
       "        vertical-align: middle;\n",
       "    }\n",
       "\n",
       "    .dataframe tbody tr th {\n",
       "        vertical-align: top;\n",
       "    }\n",
       "\n",
       "    .dataframe thead th {\n",
       "        text-align: right;\n",
       "    }\n",
       "</style>\n",
       "<table border=\"1\" class=\"dataframe\">\n",
       "  <thead>\n",
       "    <tr style=\"text-align: right;\">\n",
       "      <th></th>\n",
       "      <th>username</th>\n",
       "      <th>reponame</th>\n",
       "      <th>repourl</th>\n",
       "      <th>stars</th>\n",
       "    </tr>\n",
       "  </thead>\n",
       "  <tbody>\n",
       "    <tr>\n",
       "      <th>0</th>\n",
       "      <td>mrdoob</td>\n",
       "      <td>three.js</td>\n",
       "      <td>https://www.github.com/mrdoob/three.js</td>\n",
       "      <td>104000</td>\n",
       "    </tr>\n",
       "    <tr>\n",
       "      <th>1</th>\n",
       "      <td>pmndrs</td>\n",
       "      <td>react-three-fiber</td>\n",
       "      <td>https://www.github.com/pmndrs/react-three-fiber</td>\n",
       "      <td>28000</td>\n",
       "    </tr>\n",
       "    <tr>\n",
       "      <th>2</th>\n",
       "      <td>libgdx</td>\n",
       "      <td>libgdx</td>\n",
       "      <td>https://www.github.com/libgdx/libgdx</td>\n",
       "      <td>23600</td>\n",
       "    </tr>\n",
       "    <tr>\n",
       "      <th>3</th>\n",
       "      <td>BabylonJS</td>\n",
       "      <td>Babylon.js</td>\n",
       "      <td>https://www.github.com/BabylonJS/Babylon.js</td>\n",
       "      <td>23500</td>\n",
       "    </tr>\n",
       "    <tr>\n",
       "      <th>4</th>\n",
       "      <td>FreeCAD</td>\n",
       "      <td>FreeCAD</td>\n",
       "      <td>https://www.github.com/FreeCAD/FreeCAD</td>\n",
       "      <td>22700</td>\n",
       "    </tr>\n",
       "    <tr>\n",
       "      <th>5</th>\n",
       "      <td>ssloy</td>\n",
       "      <td>tinyrenderer</td>\n",
       "      <td>https://www.github.com/ssloy/tinyrenderer</td>\n",
       "      <td>21100</td>\n",
       "    </tr>\n",
       "    <tr>\n",
       "      <th>6</th>\n",
       "      <td>lettier</td>\n",
       "      <td>3d-game-shaders-for-beginners</td>\n",
       "      <td>https://www.github.com/lettier/3d-game-shaders...</td>\n",
       "      <td>18300</td>\n",
       "    </tr>\n",
       "    <tr>\n",
       "      <th>7</th>\n",
       "      <td>aframevr</td>\n",
       "      <td>aframe</td>\n",
       "      <td>https://www.github.com/aframevr/aframe</td>\n",
       "      <td>16800</td>\n",
       "    </tr>\n",
       "    <tr>\n",
       "      <th>8</th>\n",
       "      <td>blender</td>\n",
       "      <td>blender</td>\n",
       "      <td>https://www.github.com/blender/blender</td>\n",
       "      <td>14000</td>\n",
       "    </tr>\n",
       "    <tr>\n",
       "      <th>9</th>\n",
       "      <td>CesiumGS</td>\n",
       "      <td>cesium</td>\n",
       "      <td>https://www.github.com/CesiumGS/cesium</td>\n",
       "      <td>13200</td>\n",
       "    </tr>\n",
       "    <tr>\n",
       "      <th>10</th>\n",
       "      <td>4ian</td>\n",
       "      <td>GDevelop</td>\n",
       "      <td>https://www.github.com/4ian/GDevelop</td>\n",
       "      <td>12500</td>\n",
       "    </tr>\n",
       "    <tr>\n",
       "      <th>11</th>\n",
       "      <td>isl-org</td>\n",
       "      <td>Open3D</td>\n",
       "      <td>https://www.github.com/isl-org/Open3D</td>\n",
       "      <td>11800</td>\n",
       "    </tr>\n",
       "    <tr>\n",
       "      <th>12</th>\n",
       "      <td>MonoGame</td>\n",
       "      <td>MonoGame</td>\n",
       "      <td>https://www.github.com/MonoGame/MonoGame</td>\n",
       "      <td>11700</td>\n",
       "    </tr>\n",
       "    <tr>\n",
       "      <th>13</th>\n",
       "      <td>mapbox</td>\n",
       "      <td>mapbox-gl-js</td>\n",
       "      <td>https://www.github.com/mapbox/mapbox-gl-js</td>\n",
       "      <td>11400</td>\n",
       "    </tr>\n",
       "    <tr>\n",
       "      <th>14</th>\n",
       "      <td>metafizzy</td>\n",
       "      <td>zdog</td>\n",
       "      <td>https://www.github.com/metafizzy/zdog</td>\n",
       "      <td>10400</td>\n",
       "    </tr>\n",
       "    <tr>\n",
       "      <th>15</th>\n",
       "      <td>timzhang642</td>\n",
       "      <td>3D-Machine-Learning</td>\n",
       "      <td>https://www.github.com/timzhang642/3D-Machine-...</td>\n",
       "      <td>9800</td>\n",
       "    </tr>\n",
       "    <tr>\n",
       "      <th>16</th>\n",
       "      <td>nerfstudio-project</td>\n",
       "      <td>nerfstudio</td>\n",
       "      <td>https://www.github.com/nerfstudio-project/nerf...</td>\n",
       "      <td>9800</td>\n",
       "    </tr>\n",
       "    <tr>\n",
       "      <th>17</th>\n",
       "      <td>cocos</td>\n",
       "      <td>cocos-engine</td>\n",
       "      <td>https://www.github.com/cocos/cocos-engine</td>\n",
       "      <td>8300</td>\n",
       "    </tr>\n",
       "    <tr>\n",
       "      <th>18</th>\n",
       "      <td>domlysz</td>\n",
       "      <td>BlenderGIS</td>\n",
       "      <td>https://www.github.com/domlysz/BlenderGIS</td>\n",
       "      <td>8000</td>\n",
       "    </tr>\n",
       "    <tr>\n",
       "      <th>19</th>\n",
       "      <td>FyroxEngine</td>\n",
       "      <td>Fyrox</td>\n",
       "      <td>https://www.github.com/FyroxEngine/Fyrox</td>\n",
       "      <td>7900</td>\n",
       "    </tr>\n",
       "  </tbody>\n",
       "</table>\n",
       "</div>"
      ],
      "text/plain": [
       "              username                       reponame  \\\n",
       "0               mrdoob                       three.js   \n",
       "1               pmndrs              react-three-fiber   \n",
       "2               libgdx                         libgdx   \n",
       "3            BabylonJS                     Babylon.js   \n",
       "4              FreeCAD                        FreeCAD   \n",
       "5                ssloy                   tinyrenderer   \n",
       "6              lettier  3d-game-shaders-for-beginners   \n",
       "7             aframevr                         aframe   \n",
       "8              blender                        blender   \n",
       "9             CesiumGS                         cesium   \n",
       "10                4ian                       GDevelop   \n",
       "11             isl-org                         Open3D   \n",
       "12            MonoGame                       MonoGame   \n",
       "13              mapbox                   mapbox-gl-js   \n",
       "14           metafizzy                           zdog   \n",
       "15         timzhang642            3D-Machine-Learning   \n",
       "16  nerfstudio-project                     nerfstudio   \n",
       "17               cocos                   cocos-engine   \n",
       "18             domlysz                     BlenderGIS   \n",
       "19         FyroxEngine                          Fyrox   \n",
       "\n",
       "                                              repourl   stars  \n",
       "0              https://www.github.com/mrdoob/three.js  104000  \n",
       "1     https://www.github.com/pmndrs/react-three-fiber   28000  \n",
       "2                https://www.github.com/libgdx/libgdx   23600  \n",
       "3         https://www.github.com/BabylonJS/Babylon.js   23500  \n",
       "4              https://www.github.com/FreeCAD/FreeCAD   22700  \n",
       "5           https://www.github.com/ssloy/tinyrenderer   21100  \n",
       "6   https://www.github.com/lettier/3d-game-shaders...   18300  \n",
       "7              https://www.github.com/aframevr/aframe   16800  \n",
       "8              https://www.github.com/blender/blender   14000  \n",
       "9              https://www.github.com/CesiumGS/cesium   13200  \n",
       "10               https://www.github.com/4ian/GDevelop   12500  \n",
       "11              https://www.github.com/isl-org/Open3D   11800  \n",
       "12           https://www.github.com/MonoGame/MonoGame   11700  \n",
       "13         https://www.github.com/mapbox/mapbox-gl-js   11400  \n",
       "14              https://www.github.com/metafizzy/zdog   10400  \n",
       "15  https://www.github.com/timzhang642/3D-Machine-...    9800  \n",
       "16  https://www.github.com/nerfstudio-project/nerf...    9800  \n",
       "17          https://www.github.com/cocos/cocos-engine    8300  \n",
       "18          https://www.github.com/domlysz/BlenderGIS    8000  \n",
       "19           https://www.github.com/FyroxEngine/Fyrox    7900  "
      ]
     },
     "execution_count": 90,
     "metadata": {},
     "output_type": "execute_result"
    }
   ],
   "source": [
    "df1 = pd.DataFrame(topic_repo_dict)\n",
    "df1"
   ]
  },
  {
   "cell_type": "code",
   "execution_count": 92,
   "id": "665134f0-1c7f-4c5e-b3f8-561d99348b84",
   "metadata": {},
   "outputs": [],
   "source": [
    "#This for 1 topic now we need for all the urls\n",
    "#Creating a function using the above steps\n",
    "def str_to_int(inputstr):\n",
    "    inputstr = inputstr.strip()\n",
    "    if inputstr[-1] == 'k':\n",
    "        return int(float(inputstr[:-1]) *1000)\n",
    "    return int(inputstr)\n",
    "\n",
    "def get_repo_info(repo_information,star_tag):\n",
    "        a_tags = repo_information.find_all('a')\n",
    "        username = a_tags[0].text.strip()\n",
    "        reponame = a_tags[1].text.strip()\n",
    "        repourl = \"https://www.github.com\" + a_tags[1]['href']\n",
    "        stars = str_to_int(star_tag.text)\n",
    "        return username,reponame,stars,repourl\n",
    "\n",
    "\n",
    "def get_topic_repos(topic_url):\n",
    "    response = requests.get(topic_url)\n",
    "    if response.status_code !=200:\n",
    "        raise Exception (f\"Failed to Load Page : {topic_url}\")\n",
    "            \n",
    "    else:        \n",
    "        topicwise_doc = BeautifulSoup(response.text,\"html.parser\")\n",
    "        repo_info = topicwise_doc.find_all('h3',class_='f3 color-fg-muted text-normal lh-condensed')\n",
    "        stars_info = topicwise_doc.find_all('span',class_='Counter js-social-count')\n",
    "    \n",
    "        topic_repo_dict = {'username':[],'reponame':[],'repourl':[],'stars':[] }\n",
    "\n",
    "        for i in range(len(repo_info)):\n",
    "            repo_information = get_repo_info(repo_info[i],stars_info[i])\n",
    "            topic_repo_dict['username'].append(repo_information[0])\n",
    "            topic_repo_dict['reponame'].append(repo_information[1])\n",
    "            topic_repo_dict['repourl'].append(repo_information[3])\n",
    "            topic_repo_dict['stars'].append(repo_information[2])\n",
    "    df = pd.DataFrame(topic_repo_dict)\n",
    "    return df\n"
   ]
  },
  {
   "cell_type": "code",
   "execution_count": 94,
   "id": "d98593ed-2077-463c-ae5a-3a6108d02a84",
   "metadata": {},
   "outputs": [
    {
     "data": {
      "text/plain": [
       "'https://github.com/topics/ajax'"
      ]
     },
     "execution_count": 94,
     "metadata": {},
     "output_type": "execute_result"
    }
   ],
   "source": [
    "links_all[1]"
   ]
  },
  {
   "cell_type": "code",
   "execution_count": 96,
   "id": "20a69793-2377-439c-b361-5e4e7d4d0896",
   "metadata": {},
   "outputs": [
    {
     "data": {
      "text/html": [
       "<div>\n",
       "<style scoped>\n",
       "    .dataframe tbody tr th:only-of-type {\n",
       "        vertical-align: middle;\n",
       "    }\n",
       "\n",
       "    .dataframe tbody tr th {\n",
       "        vertical-align: top;\n",
       "    }\n",
       "\n",
       "    .dataframe thead th {\n",
       "        text-align: right;\n",
       "    }\n",
       "</style>\n",
       "<table border=\"1\" class=\"dataframe\">\n",
       "  <thead>\n",
       "    <tr style=\"text-align: right;\">\n",
       "      <th></th>\n",
       "      <th>username</th>\n",
       "      <th>reponame</th>\n",
       "      <th>repourl</th>\n",
       "      <th>stars</th>\n",
       "    </tr>\n",
       "  </thead>\n",
       "  <tbody>\n",
       "    <tr>\n",
       "      <th>0</th>\n",
       "      <td>ljianshu</td>\n",
       "      <td>Blog</td>\n",
       "      <td>https://www.github.com/ljianshu/Blog</td>\n",
       "      <td>7900</td>\n",
       "    </tr>\n",
       "    <tr>\n",
       "      <th>1</th>\n",
       "      <td>metafizzy</td>\n",
       "      <td>infinite-scroll</td>\n",
       "      <td>https://www.github.com/metafizzy/infinite-scroll</td>\n",
       "      <td>7400</td>\n",
       "    </tr>\n",
       "    <tr>\n",
       "      <th>2</th>\n",
       "      <td>olifolkerd</td>\n",
       "      <td>tabulator</td>\n",
       "      <td>https://www.github.com/olifolkerd/tabulator</td>\n",
       "      <td>6900</td>\n",
       "    </tr>\n",
       "    <tr>\n",
       "      <th>3</th>\n",
       "      <td>developit</td>\n",
       "      <td>unfetch</td>\n",
       "      <td>https://www.github.com/developit/unfetch</td>\n",
       "      <td>5700</td>\n",
       "    </tr>\n",
       "    <tr>\n",
       "      <th>4</th>\n",
       "      <td>jquery-form</td>\n",
       "      <td>form</td>\n",
       "      <td>https://www.github.com/jquery-form/form</td>\n",
       "      <td>5200</td>\n",
       "    </tr>\n",
       "    <tr>\n",
       "      <th>5</th>\n",
       "      <td>elbywan</td>\n",
       "      <td>wretch</td>\n",
       "      <td>https://www.github.com/elbywan/wretch</td>\n",
       "      <td>4900</td>\n",
       "    </tr>\n",
       "    <tr>\n",
       "      <th>6</th>\n",
       "      <td>Studio-42</td>\n",
       "      <td>elFinder</td>\n",
       "      <td>https://www.github.com/Studio-42/elFinder</td>\n",
       "      <td>4700</td>\n",
       "    </tr>\n",
       "    <tr>\n",
       "      <th>7</th>\n",
       "      <td>dwyl</td>\n",
       "      <td>learn-to-send-email-via-google-script-html-no-...</td>\n",
       "      <td>https://www.github.com/dwyl/learn-to-send-emai...</td>\n",
       "      <td>3200</td>\n",
       "    </tr>\n",
       "    <tr>\n",
       "      <th>8</th>\n",
       "      <td>alovajs</td>\n",
       "      <td>alova</td>\n",
       "      <td>https://www.github.com/alovajs/alova</td>\n",
       "      <td>3100</td>\n",
       "    </tr>\n",
       "    <tr>\n",
       "      <th>9</th>\n",
       "      <td>ded</td>\n",
       "      <td>reqwest</td>\n",
       "      <td>https://www.github.com/ded/reqwest</td>\n",
       "      <td>2900</td>\n",
       "    </tr>\n",
       "    <tr>\n",
       "      <th>10</th>\n",
       "      <td>wendux</td>\n",
       "      <td>ajax-hook</td>\n",
       "      <td>https://www.github.com/wendux/ajax-hook</td>\n",
       "      <td>2600</td>\n",
       "    </tr>\n",
       "    <tr>\n",
       "      <th>11</th>\n",
       "      <td>LeaVerou</td>\n",
       "      <td>bliss</td>\n",
       "      <td>https://www.github.com/LeaVerou/bliss</td>\n",
       "      <td>2400</td>\n",
       "    </tr>\n",
       "    <tr>\n",
       "      <th>12</th>\n",
       "      <td>noelboss</td>\n",
       "      <td>featherlight</td>\n",
       "      <td>https://www.github.com/noelboss/featherlight</td>\n",
       "      <td>2100</td>\n",
       "    </tr>\n",
       "    <tr>\n",
       "      <th>13</th>\n",
       "      <td>craftpip</td>\n",
       "      <td>jquery-confirm</td>\n",
       "      <td>https://www.github.com/craftpip/jquery-confirm</td>\n",
       "      <td>1900</td>\n",
       "    </tr>\n",
       "    <tr>\n",
       "      <th>14</th>\n",
       "      <td>k8w</td>\n",
       "      <td>tsrpc</td>\n",
       "      <td>https://www.github.com/k8w/tsrpc</td>\n",
       "      <td>1800</td>\n",
       "    </tr>\n",
       "    <tr>\n",
       "      <th>15</th>\n",
       "      <td>nette</td>\n",
       "      <td>tracy</td>\n",
       "      <td>https://www.github.com/nette/tracy</td>\n",
       "      <td>1800</td>\n",
       "    </tr>\n",
       "    <tr>\n",
       "      <th>16</th>\n",
       "      <td>loadingio</td>\n",
       "      <td>css-spinner</td>\n",
       "      <td>https://www.github.com/loadingio/css-spinner</td>\n",
       "      <td>1800</td>\n",
       "    </tr>\n",
       "    <tr>\n",
       "      <th>17</th>\n",
       "      <td>taoensso</td>\n",
       "      <td>sente</td>\n",
       "      <td>https://www.github.com/taoensso/sente</td>\n",
       "      <td>1700</td>\n",
       "    </tr>\n",
       "    <tr>\n",
       "      <th>18</th>\n",
       "      <td>codingforentrepreneurs</td>\n",
       "      <td>eCommerce</td>\n",
       "      <td>https://www.github.com/codingforentrepreneurs/...</td>\n",
       "      <td>1600</td>\n",
       "    </tr>\n",
       "    <tr>\n",
       "      <th>19</th>\n",
       "      <td>joaomilho</td>\n",
       "      <td>Enterprise</td>\n",
       "      <td>https://www.github.com/joaomilho/Enterprise</td>\n",
       "      <td>1600</td>\n",
       "    </tr>\n",
       "  </tbody>\n",
       "</table>\n",
       "</div>"
      ],
      "text/plain": [
       "                  username                                           reponame  \\\n",
       "0                 ljianshu                                               Blog   \n",
       "1                metafizzy                                    infinite-scroll   \n",
       "2               olifolkerd                                          tabulator   \n",
       "3                developit                                            unfetch   \n",
       "4              jquery-form                                               form   \n",
       "5                  elbywan                                             wretch   \n",
       "6                Studio-42                                           elFinder   \n",
       "7                     dwyl  learn-to-send-email-via-google-script-html-no-...   \n",
       "8                  alovajs                                              alova   \n",
       "9                      ded                                            reqwest   \n",
       "10                  wendux                                          ajax-hook   \n",
       "11                LeaVerou                                              bliss   \n",
       "12                noelboss                                       featherlight   \n",
       "13                craftpip                                     jquery-confirm   \n",
       "14                     k8w                                              tsrpc   \n",
       "15                   nette                                              tracy   \n",
       "16               loadingio                                        css-spinner   \n",
       "17                taoensso                                              sente   \n",
       "18  codingforentrepreneurs                                          eCommerce   \n",
       "19               joaomilho                                         Enterprise   \n",
       "\n",
       "                                              repourl  stars  \n",
       "0                https://www.github.com/ljianshu/Blog   7900  \n",
       "1    https://www.github.com/metafizzy/infinite-scroll   7400  \n",
       "2         https://www.github.com/olifolkerd/tabulator   6900  \n",
       "3            https://www.github.com/developit/unfetch   5700  \n",
       "4             https://www.github.com/jquery-form/form   5200  \n",
       "5               https://www.github.com/elbywan/wretch   4900  \n",
       "6           https://www.github.com/Studio-42/elFinder   4700  \n",
       "7   https://www.github.com/dwyl/learn-to-send-emai...   3200  \n",
       "8                https://www.github.com/alovajs/alova   3100  \n",
       "9                  https://www.github.com/ded/reqwest   2900  \n",
       "10            https://www.github.com/wendux/ajax-hook   2600  \n",
       "11              https://www.github.com/LeaVerou/bliss   2400  \n",
       "12       https://www.github.com/noelboss/featherlight   2100  \n",
       "13     https://www.github.com/craftpip/jquery-confirm   1900  \n",
       "14                   https://www.github.com/k8w/tsrpc   1800  \n",
       "15                 https://www.github.com/nette/tracy   1800  \n",
       "16       https://www.github.com/loadingio/css-spinner   1800  \n",
       "17              https://www.github.com/taoensso/sente   1700  \n",
       "18  https://www.github.com/codingforentrepreneurs/...   1600  \n",
       "19        https://www.github.com/joaomilho/Enterprise   1600  "
      ]
     },
     "execution_count": 96,
     "metadata": {},
     "output_type": "execute_result"
    }
   ],
   "source": [
    "get_topic_repos(links_all[1])"
   ]
  },
  {
   "cell_type": "code",
   "execution_count": 98,
   "id": "69bcef00-d0cf-4924-8d30-3b5c229d5dd8",
   "metadata": {},
   "outputs": [
    {
     "data": {
      "text/html": [
       "<div>\n",
       "<style scoped>\n",
       "    .dataframe tbody tr th:only-of-type {\n",
       "        vertical-align: middle;\n",
       "    }\n",
       "\n",
       "    .dataframe tbody tr th {\n",
       "        vertical-align: top;\n",
       "    }\n",
       "\n",
       "    .dataframe thead th {\n",
       "        text-align: right;\n",
       "    }\n",
       "</style>\n",
       "<table border=\"1\" class=\"dataframe\">\n",
       "  <thead>\n",
       "    <tr style=\"text-align: right;\">\n",
       "      <th></th>\n",
       "      <th>username</th>\n",
       "      <th>reponame</th>\n",
       "      <th>repourl</th>\n",
       "      <th>stars</th>\n",
       "    </tr>\n",
       "  </thead>\n",
       "  <tbody>\n",
       "    <tr>\n",
       "      <th>0</th>\n",
       "      <td>jwasham</td>\n",
       "      <td>coding-interview-university</td>\n",
       "      <td>https://www.github.com/jwasham/coding-intervie...</td>\n",
       "      <td>311000</td>\n",
       "    </tr>\n",
       "    <tr>\n",
       "      <th>1</th>\n",
       "      <td>TheAlgorithms</td>\n",
       "      <td>Python</td>\n",
       "      <td>https://www.github.com/TheAlgorithms/Python</td>\n",
       "      <td>197000</td>\n",
       "    </tr>\n",
       "    <tr>\n",
       "      <th>2</th>\n",
       "      <td>trekhleb</td>\n",
       "      <td>javascript-algorithms</td>\n",
       "      <td>https://www.github.com/trekhleb/javascript-alg...</td>\n",
       "      <td>190000</td>\n",
       "    </tr>\n",
       "    <tr>\n",
       "      <th>3</th>\n",
       "      <td>CyC2018</td>\n",
       "      <td>CS-Notes</td>\n",
       "      <td>https://www.github.com/CyC2018/CS-Notes</td>\n",
       "      <td>179000</td>\n",
       "    </tr>\n",
       "    <tr>\n",
       "      <th>4</th>\n",
       "      <td>yangshun</td>\n",
       "      <td>tech-interview-handbook</td>\n",
       "      <td>https://www.github.com/yangshun/tech-interview...</td>\n",
       "      <td>121000</td>\n",
       "    </tr>\n",
       "    <tr>\n",
       "      <th>5</th>\n",
       "      <td>krahets</td>\n",
       "      <td>hello-algo</td>\n",
       "      <td>https://www.github.com/krahets/hello-algo</td>\n",
       "      <td>108000</td>\n",
       "    </tr>\n",
       "    <tr>\n",
       "      <th>6</th>\n",
       "      <td>kdn251</td>\n",
       "      <td>interviews</td>\n",
       "      <td>https://www.github.com/kdn251/interviews</td>\n",
       "      <td>63900</td>\n",
       "    </tr>\n",
       "    <tr>\n",
       "      <th>7</th>\n",
       "      <td>TheAlgorithms</td>\n",
       "      <td>Java</td>\n",
       "      <td>https://www.github.com/TheAlgorithms/Java</td>\n",
       "      <td>60700</td>\n",
       "    </tr>\n",
       "    <tr>\n",
       "      <th>8</th>\n",
       "      <td>azl397985856</td>\n",
       "      <td>leetcode</td>\n",
       "      <td>https://www.github.com/azl397985856/leetcode</td>\n",
       "      <td>55000</td>\n",
       "    </tr>\n",
       "    <tr>\n",
       "      <th>9</th>\n",
       "      <td>youngyangyang04</td>\n",
       "      <td>leetcode-master</td>\n",
       "      <td>https://www.github.com/youngyangyang04/leetcod...</td>\n",
       "      <td>53400</td>\n",
       "    </tr>\n",
       "    <tr>\n",
       "      <th>10</th>\n",
       "      <td>algorithm-visualizer</td>\n",
       "      <td>algorithm-visualizer</td>\n",
       "      <td>https://www.github.com/algorithm-visualizer/al...</td>\n",
       "      <td>47000</td>\n",
       "    </tr>\n",
       "    <tr>\n",
       "      <th>11</th>\n",
       "      <td>huihut</td>\n",
       "      <td>interview</td>\n",
       "      <td>https://www.github.com/huihut/interview</td>\n",
       "      <td>35300</td>\n",
       "    </tr>\n",
       "    <tr>\n",
       "      <th>12</th>\n",
       "      <td>halfrost</td>\n",
       "      <td>LeetCode-Go</td>\n",
       "      <td>https://www.github.com/halfrost/LeetCode-Go</td>\n",
       "      <td>33300</td>\n",
       "    </tr>\n",
       "    <tr>\n",
       "      <th>13</th>\n",
       "      <td>TheAlgorithms</td>\n",
       "      <td>JavaScript</td>\n",
       "      <td>https://www.github.com/TheAlgorithms/JavaScript</td>\n",
       "      <td>32800</td>\n",
       "    </tr>\n",
       "    <tr>\n",
       "      <th>14</th>\n",
       "      <td>TheAlgorithms</td>\n",
       "      <td>C-Plus-Plus</td>\n",
       "      <td>https://www.github.com/TheAlgorithms/C-Plus-Plus</td>\n",
       "      <td>31100</td>\n",
       "    </tr>\n",
       "    <tr>\n",
       "      <th>15</th>\n",
       "      <td>donnemartin</td>\n",
       "      <td>interactive-coding-challenges</td>\n",
       "      <td>https://www.github.com/donnemartin/interactive...</td>\n",
       "      <td>29800</td>\n",
       "    </tr>\n",
       "    <tr>\n",
       "      <th>16</th>\n",
       "      <td>crossoverJie</td>\n",
       "      <td>JCSprout</td>\n",
       "      <td>https://www.github.com/crossoverJie/JCSprout</td>\n",
       "      <td>27100</td>\n",
       "    </tr>\n",
       "    <tr>\n",
       "      <th>17</th>\n",
       "      <td>keon</td>\n",
       "      <td>algorithms</td>\n",
       "      <td>https://www.github.com/keon/algorithms</td>\n",
       "      <td>24300</td>\n",
       "    </tr>\n",
       "    <tr>\n",
       "      <th>18</th>\n",
       "      <td>AtsushiSakai</td>\n",
       "      <td>PythonRobotics</td>\n",
       "      <td>https://www.github.com/AtsushiSakai/PythonRobo...</td>\n",
       "      <td>24100</td>\n",
       "    </tr>\n",
       "    <tr>\n",
       "      <th>19</th>\n",
       "      <td>mxgmn</td>\n",
       "      <td>WaveFunctionCollapse</td>\n",
       "      <td>https://www.github.com/mxgmn/WaveFunctionCollapse</td>\n",
       "      <td>23600</td>\n",
       "    </tr>\n",
       "  </tbody>\n",
       "</table>\n",
       "</div>"
      ],
      "text/plain": [
       "                username                       reponame  \\\n",
       "0                jwasham    coding-interview-university   \n",
       "1          TheAlgorithms                         Python   \n",
       "2               trekhleb          javascript-algorithms   \n",
       "3                CyC2018                       CS-Notes   \n",
       "4               yangshun        tech-interview-handbook   \n",
       "5                krahets                     hello-algo   \n",
       "6                 kdn251                     interviews   \n",
       "7          TheAlgorithms                           Java   \n",
       "8           azl397985856                       leetcode   \n",
       "9        youngyangyang04                leetcode-master   \n",
       "10  algorithm-visualizer           algorithm-visualizer   \n",
       "11                huihut                      interview   \n",
       "12              halfrost                    LeetCode-Go   \n",
       "13         TheAlgorithms                     JavaScript   \n",
       "14         TheAlgorithms                    C-Plus-Plus   \n",
       "15           donnemartin  interactive-coding-challenges   \n",
       "16          crossoverJie                       JCSprout   \n",
       "17                  keon                     algorithms   \n",
       "18          AtsushiSakai                 PythonRobotics   \n",
       "19                 mxgmn           WaveFunctionCollapse   \n",
       "\n",
       "                                              repourl   stars  \n",
       "0   https://www.github.com/jwasham/coding-intervie...  311000  \n",
       "1         https://www.github.com/TheAlgorithms/Python  197000  \n",
       "2   https://www.github.com/trekhleb/javascript-alg...  190000  \n",
       "3             https://www.github.com/CyC2018/CS-Notes  179000  \n",
       "4   https://www.github.com/yangshun/tech-interview...  121000  \n",
       "5           https://www.github.com/krahets/hello-algo  108000  \n",
       "6            https://www.github.com/kdn251/interviews   63900  \n",
       "7           https://www.github.com/TheAlgorithms/Java   60700  \n",
       "8        https://www.github.com/azl397985856/leetcode   55000  \n",
       "9   https://www.github.com/youngyangyang04/leetcod...   53400  \n",
       "10  https://www.github.com/algorithm-visualizer/al...   47000  \n",
       "11            https://www.github.com/huihut/interview   35300  \n",
       "12        https://www.github.com/halfrost/LeetCode-Go   33300  \n",
       "13    https://www.github.com/TheAlgorithms/JavaScript   32800  \n",
       "14   https://www.github.com/TheAlgorithms/C-Plus-Plus   31100  \n",
       "15  https://www.github.com/donnemartin/interactive...   29800  \n",
       "16       https://www.github.com/crossoverJie/JCSprout   27100  \n",
       "17             https://www.github.com/keon/algorithms   24300  \n",
       "18  https://www.github.com/AtsushiSakai/PythonRobo...   24100  \n",
       "19  https://www.github.com/mxgmn/WaveFunctionCollapse   23600  "
      ]
     },
     "execution_count": 98,
     "metadata": {},
     "output_type": "execute_result"
    }
   ],
   "source": [
    "get_topic_repos(links_all[2])"
   ]
  },
  {
   "cell_type": "markdown",
   "id": "b7b61eff-35d5-43bd-a1b9-9b4d81cf0f56",
   "metadata": {},
   "source": [
    "## Putting all together"
   ]
  },
  {
   "cell_type": "markdown",
   "id": "abd6198e-19b4-4d80-8403-972cc8fa70a4",
   "metadata": {},
   "source": [
    "## Contains Functions Code for Topic Name & Info"
   ]
  },
  {
   "cell_type": "code",
   "execution_count": 102,
   "id": "501e5608-7d18-4de3-8bff-d20fa7abf666",
   "metadata": {},
   "outputs": [],
   "source": [
    "import requests\n",
    "from bs4 import BeautifulSoup\n",
    "\n",
    "def get_topic_titles(doc):\n",
    "    title = soup.find_all('p',class_ = 'f3 lh-condensed mb-0 mt-1 Link--primary')\n",
    "    title_all = []\n",
    "    for i in title:\n",
    "        title_all.append(i.text)\n",
    "    return title_all\n",
    "\n",
    "def get_topic_context(doc):\n",
    "    context = soup.find_all('p',class_ = 'f5 color-fg-muted mb-0 mt-1')\n",
    "    context_all = []\n",
    "    for i in context:\n",
    "        context_all.append(i.text.strip())\n",
    "    return context_all\n",
    "\n",
    "def get_topic_urls(doc):\n",
    "    all_links = soup.find_all('a',class_ = 'no-underline flex-1 d-flex flex-column')\n",
    "    links_all = []\n",
    "    start = \"https://github.com\"\n",
    "    for i in all_links:\n",
    "        links_all.append(start + i['href'])\n",
    "    return links_all\n",
    "    \n",
    "\n",
    "def scrape_topic_repos():\n",
    "    topic_url = \"https://github.com/topics\"\n",
    "    response = requests.get(topic_url)\n",
    "    if response.status_code!=200:\n",
    "        raise Exception (f\"Failed to Load Page : {topic_url}\")\n",
    "    else:\n",
    "        page_content = response.text\n",
    "        soup_doc= BeautifulSoup(page_content,\"html.parser\")\n",
    "        topics_dict={\n",
    "            \"Topic Name\" :get_topic_titles(soup_doc),\n",
    "            \"Topic Context\" :get_topic_context(soup_doc),\n",
    "            \"Topic Urls\" : get_topic_urls(soup_doc) \n",
    "        }\n",
    "        return pd.DataFrame(topics_dict)\n",
    "        "
   ]
  },
  {
   "cell_type": "markdown",
   "id": "3a6c5347-4e08-47f8-a0cd-5caffa763075",
   "metadata": {},
   "source": [
    "## Contains Function for Topicwise TopRepository Scrapping"
   ]
  },
  {
   "cell_type": "code",
   "execution_count": 107,
   "id": "06f00882-7e83-488e-ad76-e1327c1403f8",
   "metadata": {},
   "outputs": [],
   "source": [
    "import os\n",
    "def str_to_int(inputstr):\n",
    "    inputstr = inputstr.strip()\n",
    "    if inputstr[-1] == 'k':\n",
    "        return int(float(inputstr[:-1]) *1000)\n",
    "    return int(inputstr)\n",
    "\n",
    "def get_repo_info(repo_information,star_tag):\n",
    "        a_tags = repo_information.find_all('a')\n",
    "        username = a_tags[0].text.strip()\n",
    "        reponame = a_tags[1].text.strip()\n",
    "        repourl = \"https://www.github.com\" + a_tags[1]['href']\n",
    "        stars = str_to_int(star_tag.text)\n",
    "        return username,reponame,stars,repourl\n",
    "\n",
    "\n",
    "def get_topic_repos(topic_url):\n",
    "    response = requests.get(topic_url)\n",
    "    if response.status_code !=200:\n",
    "        raise Exception (f\"Failed to Load Page : {topic_url}\")\n",
    "            \n",
    "    else:        \n",
    "        topicwise_doc = BeautifulSoup(response.text,\"html.parser\")\n",
    "        repo_info = topicwise_doc.find_all('h3',class_='f3 color-fg-muted text-normal lh-condensed')\n",
    "        stars_info = topicwise_doc.find_all('span',class_='Counter js-social-count')\n",
    "    \n",
    "        topic_repo_dict = {'username':[],'reponame':[],'repourl':[],'stars':[] }\n",
    "\n",
    "        for i in range(len(repo_info)):\n",
    "            repo_information = get_repo_info(repo_info[i],stars_info[i])\n",
    "            topic_repo_dict['username'].append(repo_information[0])\n",
    "            topic_repo_dict['reponame'].append(repo_information[1])\n",
    "            topic_repo_dict['repourl'].append(repo_information[3])\n",
    "            topic_repo_dict['stars'].append(repo_information[2])\n",
    "    df = pd.DataFrame(topic_repo_dict)\n",
    "    return df\n",
    "\n",
    "def scrape_topic_csv(topic_url,path):\n",
    "    if os.path.exists(path):\n",
    "        print(\"The file {} already exists. Skipping...\".format(path))\n",
    "        return\n",
    "    topic_df = get_topic_repos(topic_url)\n",
    "    topic_df.to_csv(path, index=None)\n",
    "    \n",
    "    \n",
    "def scrape_topicwise_repo():\n",
    "    print(\"Scrapping List of Topics\")\n",
    "    topics_df = scrape_topic_repos()\n",
    "    \n",
    "    os.makedirs('Repo_data', exist_ok=True)\n",
    "    \n",
    "    for index,i in topics_df.iterrows():\n",
    "        print(f\"Scrapping Top Repositories for '{i['Topic Name']}'  \")\n",
    "        scrape_topic_csv(i['Topic Urls'],'Repo_data/{}.csv'.format(i['Topic Name']))\n",
    "    print(\"Scrapping Successful\")\n"
   ]
  },
  {
   "cell_type": "code",
   "execution_count": 109,
   "id": "927fbc60-f5eb-448e-8556-9e60a65e2ec8",
   "metadata": {},
   "outputs": [
    {
     "name": "stdout",
     "output_type": "stream",
     "text": [
      "Scrapping List of Topics\n",
      "Scrapping Top Repositories for '3D'  \n",
      "Scrapping Top Repositories for 'Ajax'  \n",
      "Scrapping Top Repositories for 'Algorithm'  \n",
      "Scrapping Top Repositories for 'Amp'  \n",
      "Scrapping Top Repositories for 'Android'  \n",
      "Scrapping Top Repositories for 'Angular'  \n",
      "Scrapping Top Repositories for 'Ansible'  \n",
      "Scrapping Top Repositories for 'API'  \n",
      "Scrapping Top Repositories for 'Arduino'  \n",
      "Scrapping Top Repositories for 'ASP.NET'  \n",
      "Scrapping Top Repositories for 'Awesome Lists'  \n",
      "Scrapping Top Repositories for 'Amazon Web Services'  \n",
      "Scrapping Top Repositories for 'Azure'  \n",
      "Scrapping Top Repositories for 'Babel'  \n",
      "Scrapping Top Repositories for 'Bash'  \n",
      "Scrapping Top Repositories for 'Bitcoin'  \n",
      "Scrapping Top Repositories for 'Bootstrap'  \n",
      "Scrapping Top Repositories for 'Bot'  \n",
      "Scrapping Top Repositories for 'C'  \n",
      "Scrapping Top Repositories for 'Chrome'  \n",
      "Scrapping Top Repositories for 'Chrome extension'  \n",
      "Scrapping Top Repositories for 'Command-line interface'  \n",
      "Scrapping Top Repositories for 'Clojure'  \n",
      "Scrapping Top Repositories for 'Code quality'  \n",
      "Scrapping Top Repositories for 'Code review'  \n",
      "Scrapping Top Repositories for 'Compiler'  \n",
      "Scrapping Top Repositories for 'Continuous integration'  \n",
      "Scrapping Top Repositories for 'C++'  \n",
      "Scrapping Top Repositories for 'Cryptocurrency'  \n",
      "Scrapping Top Repositories for 'Crystal'  \n",
      "Scrapping Successful\n"
     ]
    }
   ],
   "source": [
    "scrape_topicwise_repo()"
   ]
  },
  {
   "cell_type": "code",
   "execution_count": 111,
   "id": "a6df1ffe-a090-4078-aab0-8bd451509a92",
   "metadata": {},
   "outputs": [
    {
     "name": "stdout",
     "output_type": "stream",
     "text": [
      "Help on built-in function mkdir in module nt:\n",
      "\n",
      "mkdir(path, mode=511, *, dir_fd=None)\n",
      "    Create a directory.\n",
      "    \n",
      "    If dir_fd is not None, it should be a file descriptor open to a directory,\n",
      "      and path should be relative; path will then be relative to that directory.\n",
      "    dir_fd may not be implemented on your platform.\n",
      "      If it is unavailable, using it will raise a NotImplementedError.\n",
      "    \n",
      "    The mode argument is ignored on Windows. Where it is used, the current umask\n",
      "    value is first masked out.\n",
      "\n"
     ]
    }
   ],
   "source": [
    "import os\n",
    "\n",
    "help(os.mkdir)"
   ]
  },
  {
   "cell_type": "code",
   "execution_count": null,
   "id": "01ff11d7-a87a-4c59-80fe-7557a8d6304c",
   "metadata": {},
   "outputs": [],
   "source": []
  }
 ],
 "metadata": {
  "kernelspec": {
   "display_name": "Python 3 (ipykernel)",
   "language": "python",
   "name": "python3"
  },
  "language_info": {
   "codemirror_mode": {
    "name": "ipython",
    "version": 3
   },
   "file_extension": ".py",
   "mimetype": "text/x-python",
   "name": "python",
   "nbconvert_exporter": "python",
   "pygments_lexer": "ipython3",
   "version": "3.11.7"
  }
 },
 "nbformat": 4,
 "nbformat_minor": 5
}
